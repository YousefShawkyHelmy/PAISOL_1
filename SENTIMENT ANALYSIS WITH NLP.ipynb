{
  "nbformat": 4,
  "nbformat_minor": 0,
  "metadata": {
    "colab": {
      "provenance": []
    },
    "kernelspec": {
      "name": "python3",
      "display_name": "Python 3"
    },
    "language_info": {
      "name": "python"
    }
  },
  "cells": [
    {
      "cell_type": "markdown",
      "source": [
        " # Sentiment Analysis of reviews Apps for Android from Amazon"
      ],
      "metadata": {
        "id": "ADcoBFuVYf6Z"
      }
    },
    {
      "cell_type": "code",
      "execution_count": 1,
      "metadata": {
        "colab": {
          "base_uri": "https://localhost:8080/"
        },
        "id": "aRIcQfH04A55",
        "outputId": "eb9c2874-d926-45bd-dc4f-20e19305e76a"
      },
      "outputs": [
        {
          "output_type": "stream",
          "name": "stdout",
          "text": [
            "Requirement already satisfied: nltk in /usr/local/lib/python3.10/dist-packages (3.8.1)\n",
            "Requirement already satisfied: click in /usr/local/lib/python3.10/dist-packages (from nltk) (8.1.7)\n",
            "Requirement already satisfied: joblib in /usr/local/lib/python3.10/dist-packages (from nltk) (1.4.0)\n",
            "Requirement already satisfied: regex>=2021.8.3 in /usr/local/lib/python3.10/dist-packages (from nltk) (2023.12.25)\n",
            "Requirement already satisfied: tqdm in /usr/local/lib/python3.10/dist-packages (from nltk) (4.66.2)\n"
          ]
        }
      ],
      "source": [
        "pip install nltk"
      ]
    },
    {
      "cell_type": "code",
      "source": [
        "pip install tokenizers"
      ],
      "metadata": {
        "colab": {
          "base_uri": "https://localhost:8080/"
        },
        "id": "uX5AmjTB4JEJ",
        "outputId": "32c7f77c-ef75-43e9-bba1-c62963343e0b"
      },
      "execution_count": 2,
      "outputs": [
        {
          "output_type": "stream",
          "name": "stdout",
          "text": [
            "Requirement already satisfied: tokenizers in /usr/local/lib/python3.10/dist-packages (0.19.1)\n",
            "Requirement already satisfied: huggingface-hub<1.0,>=0.16.4 in /usr/local/lib/python3.10/dist-packages (from tokenizers) (0.20.3)\n",
            "Requirement already satisfied: filelock in /usr/local/lib/python3.10/dist-packages (from huggingface-hub<1.0,>=0.16.4->tokenizers) (3.13.4)\n",
            "Requirement already satisfied: fsspec>=2023.5.0 in /usr/local/lib/python3.10/dist-packages (from huggingface-hub<1.0,>=0.16.4->tokenizers) (2023.6.0)\n",
            "Requirement already satisfied: requests in /usr/local/lib/python3.10/dist-packages (from huggingface-hub<1.0,>=0.16.4->tokenizers) (2.31.0)\n",
            "Requirement already satisfied: tqdm>=4.42.1 in /usr/local/lib/python3.10/dist-packages (from huggingface-hub<1.0,>=0.16.4->tokenizers) (4.66.2)\n",
            "Requirement already satisfied: pyyaml>=5.1 in /usr/local/lib/python3.10/dist-packages (from huggingface-hub<1.0,>=0.16.4->tokenizers) (6.0.1)\n",
            "Requirement already satisfied: typing-extensions>=3.7.4.3 in /usr/local/lib/python3.10/dist-packages (from huggingface-hub<1.0,>=0.16.4->tokenizers) (4.11.0)\n",
            "Requirement already satisfied: packaging>=20.9 in /usr/local/lib/python3.10/dist-packages (from huggingface-hub<1.0,>=0.16.4->tokenizers) (24.0)\n",
            "Requirement already satisfied: charset-normalizer<4,>=2 in /usr/local/lib/python3.10/dist-packages (from requests->huggingface-hub<1.0,>=0.16.4->tokenizers) (3.3.2)\n",
            "Requirement already satisfied: idna<4,>=2.5 in /usr/local/lib/python3.10/dist-packages (from requests->huggingface-hub<1.0,>=0.16.4->tokenizers) (3.7)\n",
            "Requirement already satisfied: urllib3<3,>=1.21.1 in /usr/local/lib/python3.10/dist-packages (from requests->huggingface-hub<1.0,>=0.16.4->tokenizers) (2.0.7)\n",
            "Requirement already satisfied: certifi>=2017.4.17 in /usr/local/lib/python3.10/dist-packages (from requests->huggingface-hub<1.0,>=0.16.4->tokenizers) (2024.2.2)\n"
          ]
        }
      ]
    },
    {
      "cell_type": "code",
      "source": [
        "import nltk\n",
        "import gzip\n",
        "import numpy as np\n",
        "import pandas as pd\n",
        "from textblob import Word\n",
        "from nltk.corpus import stopwords\n",
        "from transformers import BertTokenizer\n",
        "from nltk.tokenize import word_tokenize\n",
        "from nltk.stem import WordNetLemmatizer\n",
        "from sklearn.naive_bayes import MultinomialNB\n",
        "from sklearn.preprocessing import LabelEncoder\n",
        "from sklearn.model_selection import train_test_split\n",
        "from sklearn.ensemble import RandomForestClassifier\n",
        "from sklearn.linear_model import LogisticRegression\n",
        "from nltk.sentiment.vader import SentimentIntensityAnalyzer\n",
        "from sklearn.feature_extraction.text import CountVectorizer\n",
        "from sklearn.feature_extraction.text import TfidfVectorizer\n",
        "from sklearn.model_selection import cross_val_score, GridSearchCV, cross_validate"
      ],
      "metadata": {
        "id": "ZJJDhVx_4JKm"
      },
      "execution_count": 3,
      "outputs": []
    },
    {
      "cell_type": "code",
      "source": [
        "nltk.download('punkt')\n",
        "nltk.download('stopwords')\n",
        "nltk.download('wordnet')\n",
        "nltk.download('vader_lexicon')"
      ],
      "metadata": {
        "colab": {
          "base_uri": "https://localhost:8080/"
        },
        "id": "1ZOaV9pC4JQc",
        "outputId": "a9182da7-762d-41cf-aaac-8ab492f163db"
      },
      "execution_count": 4,
      "outputs": [
        {
          "output_type": "stream",
          "name": "stderr",
          "text": [
            "[nltk_data] Downloading package punkt to /root/nltk_data...\n",
            "[nltk_data]   Unzipping tokenizers/punkt.zip.\n",
            "[nltk_data] Downloading package stopwords to /root/nltk_data...\n",
            "[nltk_data]   Unzipping corpora/stopwords.zip.\n",
            "[nltk_data] Downloading package wordnet to /root/nltk_data...\n",
            "[nltk_data] Downloading package vader_lexicon to /root/nltk_data...\n"
          ]
        },
        {
          "output_type": "execute_result",
          "data": {
            "text/plain": [
              "True"
            ]
          },
          "metadata": {},
          "execution_count": 4
        }
      ]
    },
    {
      "cell_type": "markdown",
      "source": [
        "## Importing the data"
      ],
      "metadata": {
        "id": "hhaTqrNS4VW2"
      }
    },
    {
      "cell_type": "code",
      "source": [
        "path = \"../reviews_Apps_for_Android.json.gz\""
      ],
      "metadata": {
        "id": "LUEgmeYC4JXN"
      },
      "execution_count": 5,
      "outputs": []
    },
    {
      "cell_type": "code",
      "source": [
        "#Parsing the data\n",
        "def parse(path):\n",
        "  g = gzip.open(path, 'rb')\n",
        "  for l in g:\n",
        "    yield eval(l)\n",
        "\n",
        "def getDF(path):\n",
        "  i = 0\n",
        "  df = {}\n",
        "  for d in parse(path):\n",
        "    df[i] = d\n",
        "    i += 1\n",
        "  return pd.DataFrame.from_dict(df, orient='index')\n",
        "\n",
        "df = getDF(\"drive/MyDrive/reviews_Apps_for_Android.json.gz\")"
      ],
      "metadata": {
        "id": "Qf6pARRd4JdQ"
      },
      "execution_count": 7,
      "outputs": []
    },
    {
      "cell_type": "code",
      "source": [
        "df.head()"
      ],
      "metadata": {
        "colab": {
          "base_uri": "https://localhost:8080/",
          "height": 328
        },
        "id": "J6Do65gj5e1k",
        "outputId": "1b610d1a-982d-4cca-8965-ebdc04eb1c71"
      },
      "execution_count": 8,
      "outputs": [
        {
          "output_type": "execute_result",
          "data": {
            "text/plain": [
              "       reviewerID        asin     reviewerName   helpful  \\\n",
              "0   AUI0OLXAB3KKT  B004A9SDD8       A Customer    [0, 0]   \n",
              "1  A1ZUSQ3TC3EC4C  B004A9SDD8        A. Lissak  [12, 14]   \n",
              "2   AC05OAXD72X1V  B004A9SDD8            Allie    [0, 0]   \n",
              "3  A2RVMFOKBVM21I  B004A9SDD8  Amazon Customer    [0, 2]   \n",
              "4  A3NBSRGUWQGCMZ  B004A9SDD8  Amazon Customer    [1, 3]   \n",
              "\n",
              "                                          reviewText  overall  \\\n",
              "0  Glad to finally see this app on the android ma...      5.0   \n",
              "1  this app works great on the Kindle Fire... kid...      5.0   \n",
              "2  We love these monkey's and all the concepts th...      4.0   \n",
              "3  cannot get my kindle away from my 2 year old g...      5.0   \n",
              "4  I start this app up whenever I forget what a f...      1.0   \n",
              "\n",
              "                       summary  unixReviewTime   reviewTime  \n",
              "0                 Great app!!!    1.301184e+09  03 27, 2011  \n",
              "1                 Kid loves it    1.321574e+09  11 18, 2011  \n",
              "2          Love these monkeys!    1.367366e+09   05 1, 2013  \n",
              "3         fun fun for toddlers    1.350173e+09  10 14, 2012  \n",
              "4  Might be great if it worked    1.300838e+09  03 23, 2011  "
            ],
            "text/html": [
              "\n",
              "  <div id=\"df-7e9b5fc6-7816-439b-9525-79f52332852a\" class=\"colab-df-container\">\n",
              "    <div>\n",
              "<style scoped>\n",
              "    .dataframe tbody tr th:only-of-type {\n",
              "        vertical-align: middle;\n",
              "    }\n",
              "\n",
              "    .dataframe tbody tr th {\n",
              "        vertical-align: top;\n",
              "    }\n",
              "\n",
              "    .dataframe thead th {\n",
              "        text-align: right;\n",
              "    }\n",
              "</style>\n",
              "<table border=\"1\" class=\"dataframe\">\n",
              "  <thead>\n",
              "    <tr style=\"text-align: right;\">\n",
              "      <th></th>\n",
              "      <th>reviewerID</th>\n",
              "      <th>asin</th>\n",
              "      <th>reviewerName</th>\n",
              "      <th>helpful</th>\n",
              "      <th>reviewText</th>\n",
              "      <th>overall</th>\n",
              "      <th>summary</th>\n",
              "      <th>unixReviewTime</th>\n",
              "      <th>reviewTime</th>\n",
              "    </tr>\n",
              "  </thead>\n",
              "  <tbody>\n",
              "    <tr>\n",
              "      <th>0</th>\n",
              "      <td>AUI0OLXAB3KKT</td>\n",
              "      <td>B004A9SDD8</td>\n",
              "      <td>A Customer</td>\n",
              "      <td>[0, 0]</td>\n",
              "      <td>Glad to finally see this app on the android ma...</td>\n",
              "      <td>5.0</td>\n",
              "      <td>Great app!!!</td>\n",
              "      <td>1.301184e+09</td>\n",
              "      <td>03 27, 2011</td>\n",
              "    </tr>\n",
              "    <tr>\n",
              "      <th>1</th>\n",
              "      <td>A1ZUSQ3TC3EC4C</td>\n",
              "      <td>B004A9SDD8</td>\n",
              "      <td>A. Lissak</td>\n",
              "      <td>[12, 14]</td>\n",
              "      <td>this app works great on the Kindle Fire... kid...</td>\n",
              "      <td>5.0</td>\n",
              "      <td>Kid loves it</td>\n",
              "      <td>1.321574e+09</td>\n",
              "      <td>11 18, 2011</td>\n",
              "    </tr>\n",
              "    <tr>\n",
              "      <th>2</th>\n",
              "      <td>AC05OAXD72X1V</td>\n",
              "      <td>B004A9SDD8</td>\n",
              "      <td>Allie</td>\n",
              "      <td>[0, 0]</td>\n",
              "      <td>We love these monkey's and all the concepts th...</td>\n",
              "      <td>4.0</td>\n",
              "      <td>Love these monkeys!</td>\n",
              "      <td>1.367366e+09</td>\n",
              "      <td>05 1, 2013</td>\n",
              "    </tr>\n",
              "    <tr>\n",
              "      <th>3</th>\n",
              "      <td>A2RVMFOKBVM21I</td>\n",
              "      <td>B004A9SDD8</td>\n",
              "      <td>Amazon Customer</td>\n",
              "      <td>[0, 2]</td>\n",
              "      <td>cannot get my kindle away from my 2 year old g...</td>\n",
              "      <td>5.0</td>\n",
              "      <td>fun fun for toddlers</td>\n",
              "      <td>1.350173e+09</td>\n",
              "      <td>10 14, 2012</td>\n",
              "    </tr>\n",
              "    <tr>\n",
              "      <th>4</th>\n",
              "      <td>A3NBSRGUWQGCMZ</td>\n",
              "      <td>B004A9SDD8</td>\n",
              "      <td>Amazon Customer</td>\n",
              "      <td>[1, 3]</td>\n",
              "      <td>I start this app up whenever I forget what a f...</td>\n",
              "      <td>1.0</td>\n",
              "      <td>Might be great if it worked</td>\n",
              "      <td>1.300838e+09</td>\n",
              "      <td>03 23, 2011</td>\n",
              "    </tr>\n",
              "  </tbody>\n",
              "</table>\n",
              "</div>\n",
              "    <div class=\"colab-df-buttons\">\n",
              "\n",
              "  <div class=\"colab-df-container\">\n",
              "    <button class=\"colab-df-convert\" onclick=\"convertToInteractive('df-7e9b5fc6-7816-439b-9525-79f52332852a')\"\n",
              "            title=\"Convert this dataframe to an interactive table.\"\n",
              "            style=\"display:none;\">\n",
              "\n",
              "  <svg xmlns=\"http://www.w3.org/2000/svg\" height=\"24px\" viewBox=\"0 -960 960 960\">\n",
              "    <path d=\"M120-120v-720h720v720H120Zm60-500h600v-160H180v160Zm220 220h160v-160H400v160Zm0 220h160v-160H400v160ZM180-400h160v-160H180v160Zm440 0h160v-160H620v160ZM180-180h160v-160H180v160Zm440 0h160v-160H620v160Z\"/>\n",
              "  </svg>\n",
              "    </button>\n",
              "\n",
              "  <style>\n",
              "    .colab-df-container {\n",
              "      display:flex;\n",
              "      gap: 12px;\n",
              "    }\n",
              "\n",
              "    .colab-df-convert {\n",
              "      background-color: #E8F0FE;\n",
              "      border: none;\n",
              "      border-radius: 50%;\n",
              "      cursor: pointer;\n",
              "      display: none;\n",
              "      fill: #1967D2;\n",
              "      height: 32px;\n",
              "      padding: 0 0 0 0;\n",
              "      width: 32px;\n",
              "    }\n",
              "\n",
              "    .colab-df-convert:hover {\n",
              "      background-color: #E2EBFA;\n",
              "      box-shadow: 0px 1px 2px rgba(60, 64, 67, 0.3), 0px 1px 3px 1px rgba(60, 64, 67, 0.15);\n",
              "      fill: #174EA6;\n",
              "    }\n",
              "\n",
              "    .colab-df-buttons div {\n",
              "      margin-bottom: 4px;\n",
              "    }\n",
              "\n",
              "    [theme=dark] .colab-df-convert {\n",
              "      background-color: #3B4455;\n",
              "      fill: #D2E3FC;\n",
              "    }\n",
              "\n",
              "    [theme=dark] .colab-df-convert:hover {\n",
              "      background-color: #434B5C;\n",
              "      box-shadow: 0px 1px 3px 1px rgba(0, 0, 0, 0.15);\n",
              "      filter: drop-shadow(0px 1px 2px rgba(0, 0, 0, 0.3));\n",
              "      fill: #FFFFFF;\n",
              "    }\n",
              "  </style>\n",
              "\n",
              "    <script>\n",
              "      const buttonEl =\n",
              "        document.querySelector('#df-7e9b5fc6-7816-439b-9525-79f52332852a button.colab-df-convert');\n",
              "      buttonEl.style.display =\n",
              "        google.colab.kernel.accessAllowed ? 'block' : 'none';\n",
              "\n",
              "      async function convertToInteractive(key) {\n",
              "        const element = document.querySelector('#df-7e9b5fc6-7816-439b-9525-79f52332852a');\n",
              "        const dataTable =\n",
              "          await google.colab.kernel.invokeFunction('convertToInteractive',\n",
              "                                                    [key], {});\n",
              "        if (!dataTable) return;\n",
              "\n",
              "        const docLinkHtml = 'Like what you see? Visit the ' +\n",
              "          '<a target=\"_blank\" href=https://colab.research.google.com/notebooks/data_table.ipynb>data table notebook</a>'\n",
              "          + ' to learn more about interactive tables.';\n",
              "        element.innerHTML = '';\n",
              "        dataTable['output_type'] = 'display_data';\n",
              "        await google.colab.output.renderOutput(dataTable, element);\n",
              "        const docLink = document.createElement('div');\n",
              "        docLink.innerHTML = docLinkHtml;\n",
              "        element.appendChild(docLink);\n",
              "      }\n",
              "    </script>\n",
              "  </div>\n",
              "\n",
              "\n",
              "<div id=\"df-163f4740-12d3-4a1e-8975-2af39bb0db63\">\n",
              "  <button class=\"colab-df-quickchart\" onclick=\"quickchart('df-163f4740-12d3-4a1e-8975-2af39bb0db63')\"\n",
              "            title=\"Suggest charts\"\n",
              "            style=\"display:none;\">\n",
              "\n",
              "<svg xmlns=\"http://www.w3.org/2000/svg\" height=\"24px\"viewBox=\"0 0 24 24\"\n",
              "     width=\"24px\">\n",
              "    <g>\n",
              "        <path d=\"M19 3H5c-1.1 0-2 .9-2 2v14c0 1.1.9 2 2 2h14c1.1 0 2-.9 2-2V5c0-1.1-.9-2-2-2zM9 17H7v-7h2v7zm4 0h-2V7h2v10zm4 0h-2v-4h2v4z\"/>\n",
              "    </g>\n",
              "</svg>\n",
              "  </button>\n",
              "\n",
              "<style>\n",
              "  .colab-df-quickchart {\n",
              "      --bg-color: #E8F0FE;\n",
              "      --fill-color: #1967D2;\n",
              "      --hover-bg-color: #E2EBFA;\n",
              "      --hover-fill-color: #174EA6;\n",
              "      --disabled-fill-color: #AAA;\n",
              "      --disabled-bg-color: #DDD;\n",
              "  }\n",
              "\n",
              "  [theme=dark] .colab-df-quickchart {\n",
              "      --bg-color: #3B4455;\n",
              "      --fill-color: #D2E3FC;\n",
              "      --hover-bg-color: #434B5C;\n",
              "      --hover-fill-color: #FFFFFF;\n",
              "      --disabled-bg-color: #3B4455;\n",
              "      --disabled-fill-color: #666;\n",
              "  }\n",
              "\n",
              "  .colab-df-quickchart {\n",
              "    background-color: var(--bg-color);\n",
              "    border: none;\n",
              "    border-radius: 50%;\n",
              "    cursor: pointer;\n",
              "    display: none;\n",
              "    fill: var(--fill-color);\n",
              "    height: 32px;\n",
              "    padding: 0;\n",
              "    width: 32px;\n",
              "  }\n",
              "\n",
              "  .colab-df-quickchart:hover {\n",
              "    background-color: var(--hover-bg-color);\n",
              "    box-shadow: 0 1px 2px rgba(60, 64, 67, 0.3), 0 1px 3px 1px rgba(60, 64, 67, 0.15);\n",
              "    fill: var(--button-hover-fill-color);\n",
              "  }\n",
              "\n",
              "  .colab-df-quickchart-complete:disabled,\n",
              "  .colab-df-quickchart-complete:disabled:hover {\n",
              "    background-color: var(--disabled-bg-color);\n",
              "    fill: var(--disabled-fill-color);\n",
              "    box-shadow: none;\n",
              "  }\n",
              "\n",
              "  .colab-df-spinner {\n",
              "    border: 2px solid var(--fill-color);\n",
              "    border-color: transparent;\n",
              "    border-bottom-color: var(--fill-color);\n",
              "    animation:\n",
              "      spin 1s steps(1) infinite;\n",
              "  }\n",
              "\n",
              "  @keyframes spin {\n",
              "    0% {\n",
              "      border-color: transparent;\n",
              "      border-bottom-color: var(--fill-color);\n",
              "      border-left-color: var(--fill-color);\n",
              "    }\n",
              "    20% {\n",
              "      border-color: transparent;\n",
              "      border-left-color: var(--fill-color);\n",
              "      border-top-color: var(--fill-color);\n",
              "    }\n",
              "    30% {\n",
              "      border-color: transparent;\n",
              "      border-left-color: var(--fill-color);\n",
              "      border-top-color: var(--fill-color);\n",
              "      border-right-color: var(--fill-color);\n",
              "    }\n",
              "    40% {\n",
              "      border-color: transparent;\n",
              "      border-right-color: var(--fill-color);\n",
              "      border-top-color: var(--fill-color);\n",
              "    }\n",
              "    60% {\n",
              "      border-color: transparent;\n",
              "      border-right-color: var(--fill-color);\n",
              "    }\n",
              "    80% {\n",
              "      border-color: transparent;\n",
              "      border-right-color: var(--fill-color);\n",
              "      border-bottom-color: var(--fill-color);\n",
              "    }\n",
              "    90% {\n",
              "      border-color: transparent;\n",
              "      border-bottom-color: var(--fill-color);\n",
              "    }\n",
              "  }\n",
              "</style>\n",
              "\n",
              "  <script>\n",
              "    async function quickchart(key) {\n",
              "      const quickchartButtonEl =\n",
              "        document.querySelector('#' + key + ' button');\n",
              "      quickchartButtonEl.disabled = true;  // To prevent multiple clicks.\n",
              "      quickchartButtonEl.classList.add('colab-df-spinner');\n",
              "      try {\n",
              "        const charts = await google.colab.kernel.invokeFunction(\n",
              "            'suggestCharts', [key], {});\n",
              "      } catch (error) {\n",
              "        console.error('Error during call to suggestCharts:', error);\n",
              "      }\n",
              "      quickchartButtonEl.classList.remove('colab-df-spinner');\n",
              "      quickchartButtonEl.classList.add('colab-df-quickchart-complete');\n",
              "    }\n",
              "    (() => {\n",
              "      let quickchartButtonEl =\n",
              "        document.querySelector('#df-163f4740-12d3-4a1e-8975-2af39bb0db63 button');\n",
              "      quickchartButtonEl.style.display =\n",
              "        google.colab.kernel.accessAllowed ? 'block' : 'none';\n",
              "    })();\n",
              "  </script>\n",
              "</div>\n",
              "\n",
              "    </div>\n",
              "  </div>\n"
            ],
            "application/vnd.google.colaboratory.intrinsic+json": {
              "type": "dataframe",
              "variable_name": "df"
            }
          },
          "metadata": {},
          "execution_count": 8
        }
      ]
    },
    {
      "cell_type": "code",
      "source": [
        "df.info()"
      ],
      "metadata": {
        "colab": {
          "base_uri": "https://localhost:8080/"
        },
        "id": "WdXJ-APk5mBz",
        "outputId": "2d7e0200-939e-4463-8da6-ab1dc0f32a36"
      },
      "execution_count": 9,
      "outputs": [
        {
          "output_type": "stream",
          "name": "stdout",
          "text": [
            "<class 'pandas.core.frame.DataFrame'>\n",
            "Index: 2638173 entries, 0 to 2638172\n",
            "Data columns (total 9 columns):\n",
            " #   Column          Dtype  \n",
            "---  ------          -----  \n",
            " 0   reviewerID      object \n",
            " 1   asin            object \n",
            " 2   reviewerName    object \n",
            " 3   helpful         object \n",
            " 4   reviewText      object \n",
            " 5   overall         float64\n",
            " 6   summary         object \n",
            " 7   unixReviewTime  float64\n",
            " 8   reviewTime      object \n",
            "dtypes: float64(2), object(7)\n",
            "memory usage: 201.3+ MB\n"
          ]
        }
      ]
    },
    {
      "cell_type": "markdown",
      "source": [
        "## Text Preprocessing"
      ],
      "metadata": {
        "id": "6bInm3TZ5qjM"
      }
    },
    {
      "cell_type": "code",
      "source": [
        "# Normalizing Case Folding\n",
        "df['reviewText'] = df['reviewText'].str.lower()\n",
        "\n",
        "# Punctuations\n",
        "df['reviewText'] = df['reviewText'].str.replace('[^\\w\\s]', '')\n",
        "\n",
        "# Numbers\n",
        "df['reviewText'] = df['reviewText'].str.replace('\\d', '')"
      ],
      "metadata": {
        "id": "t7Wf-Ca_5mGS"
      },
      "execution_count": 10,
      "outputs": []
    },
    {
      "cell_type": "code",
      "source": [
        "# Stopwords\n",
        "sw = stopwords.words('english')\n",
        "df['reviewText'] = df['reviewText'].apply(lambda x: \" \".join(x for x in str(x).split() if x not in sw))"
      ],
      "metadata": {
        "id": "_Ijh8hP05mK_"
      },
      "execution_count": 11,
      "outputs": []
    },
    {
      "cell_type": "code",
      "source": [
        "# Rarewords\n",
        "drops = pd.Series(' '.join(df['reviewText']).split()).value_counts()[-1000:]\n",
        "df['reviewText'] = df['reviewText'].apply(lambda x: \" \".join(x for x in x.split() if x not in drops))"
      ],
      "metadata": {
        "id": "WaaiY2Aq5mPS"
      },
      "execution_count": 12,
      "outputs": []
    },
    {
      "cell_type": "code",
      "source": [
        "# Load the BERT tokenizer\n",
        "tokenizer = BertTokenizer.from_pretrained(\"bert-base-uncased\")\n",
        "\n",
        "# WordNet lemmatizer\n",
        "lemmatizer = WordNetLemmatizer()\n",
        "\n",
        "# Lemmatize each word in the reviewText column\n",
        "df['reviewText'] = df['reviewText'].apply(lambda x: \" \".join([lemmatizer.lemmatize(word) for word in word_tokenize(x)]))\n",
        "\n",
        "# Tokenize each review text and count the occurrences of each token\n",
        "token_counts = {}\n",
        "\n",
        "for text in df[\"reviewText\"]:\n",
        "    tokens = tokenizer.tokenize(text)\n",
        "    for token in tokens:\n",
        "        if token in token_counts:\n",
        "            token_counts[token] += 1\n",
        "        else:\n",
        "            token_counts[token] = 1\n",
        "\n",
        "# Convert the token counts dictionary to a DataFrame\n",
        "tf = pd.DataFrame(token_counts.items(), columns=[\"words\", \"tf\"])\n",
        "\n",
        "print(tf.head())\n"
      ],
      "metadata": {
        "colab": {
          "base_uri": "https://localhost:8080/"
        },
        "id": "L4yPv_fS5mTV",
        "outputId": "b8721611-04fd-47a7-ac25-ee7bc931d3ff"
      },
      "execution_count": 14,
      "outputs": [
        {
          "output_type": "stream",
          "name": "stdout",
          "text": [
            "     words      tf\n",
            "0     glad   32320\n",
            "1  finally   21972\n",
            "2      see  122936\n",
            "3      app  878593\n",
            "4  android   41725\n"
          ]
        }
      ]
    },
    {
      "cell_type": "markdown",
      "source": [
        "## Sentiment Analysis"
      ],
      "metadata": {
        "id": "jAdDD8BI7eUd"
      }
    },
    {
      "cell_type": "code",
      "source": [
        "sia = SentimentIntensityAnalyzer()"
      ],
      "metadata": {
        "id": "v6Ujnxk85mW_"
      },
      "execution_count": 15,
      "outputs": []
    },
    {
      "cell_type": "code",
      "source": [
        "# Calculating sentiment scores for example sentence\n",
        "sia.polarity_scores(\"This app is very bad, I dont recomend it at all!\")"
      ],
      "metadata": {
        "colab": {
          "base_uri": "https://localhost:8080/"
        },
        "id": "DyBgsuIN7mvz",
        "outputId": "afff32ba-548e-4a26-dd3f-a0bb308abd14"
      },
      "execution_count": 16,
      "outputs": [
        {
          "output_type": "execute_result",
          "data": {
            "text/plain": [
              "{'neg': 0.312, 'neu': 0.688, 'pos': 0.0, 'compound': -0.623}"
            ]
          },
          "metadata": {},
          "execution_count": 16
        }
      ]
    },
    {
      "cell_type": "code",
      "source": [
        "df[\"reviewText\"] = df[\"reviewText\"].str.upper()"
      ],
      "metadata": {
        "id": "Yecxi23P7m5o"
      },
      "execution_count": 17,
      "outputs": []
    },
    {
      "cell_type": "code",
      "source": [
        "# Iterate and calculate compound polarity score over each text in \"reviewText\" column\n",
        "scores = []\n",
        "for text in df[\"reviewText\"]:\n",
        "    if isinstance(text, str):\n",
        "        score = sia.polarity_scores(text)[\"compound\"]\n",
        "    else:\n",
        "        score = 0.0\n",
        "    scores.append(score)\n",
        "# Add new column \"polarity_score\" to the dataset\n",
        "df[\"polarity_score\"] = scores"
      ],
      "metadata": {
        "id": "XJ9ijK0T8KuQ"
      },
      "execution_count": 18,
      "outputs": []
    },
    {
      "cell_type": "code",
      "source": [
        "# Creating Target column and classify the values into Pos, Neg and Neu\n",
        "sentiments = []\n",
        "for text in df[\"reviewText\"]:\n",
        "    if isinstance(text, str):  # Check if the text is a string\n",
        "        compound_score = sia.polarity_scores(text)[\"compound\"]\n",
        "        if compound_score > 0.5:\n",
        "            sentiment = \"pos\"\n",
        "        elif compound_score < -0.4:\n",
        "            sentiment = \"neg\"\n",
        "        else:\n",
        "            sentiment = \"neu\"\n",
        "    else:\n",
        "        sentiment = \"neu\"  # Treat non-string values as neutral sentiment\n",
        "    sentiments.append(sentiment)\n",
        "\n",
        "# Add new column \"target\" to the dataset\n",
        "df[\"target\"] = sentiments"
      ],
      "metadata": {
        "id": "7mn2zrga8K13"
      },
      "execution_count": 21,
      "outputs": []
    },
    {
      "cell_type": "code",
      "source": [
        "df.head()"
      ],
      "metadata": {
        "colab": {
          "base_uri": "https://localhost:8080/",
          "height": 521
        },
        "id": "KaA1H-ls9hVF",
        "outputId": "eac0374d-aa4d-4377-85af-5e04812f0c39"
      },
      "execution_count": 22,
      "outputs": [
        {
          "output_type": "execute_result",
          "data": {
            "text/plain": [
              "       reviewerID        asin     reviewerName   helpful  \\\n",
              "0   AUI0OLXAB3KKT  B004A9SDD8       A Customer    [0, 0]   \n",
              "1  A1ZUSQ3TC3EC4C  B004A9SDD8        A. Lissak  [12, 14]   \n",
              "2   AC05OAXD72X1V  B004A9SDD8            Allie    [0, 0]   \n",
              "3  A2RVMFOKBVM21I  B004A9SDD8  Amazon Customer    [0, 2]   \n",
              "4  A3NBSRGUWQGCMZ  B004A9SDD8  Amazon Customer    [1, 3]   \n",
              "\n",
              "                                          reviewText  overall  \\\n",
              "0  GLAD FINALLY SEE APP ANDROID MARKET . WIFE IPH...      5.0   \n",
              "1  APP WORK GREAT KINDLE FIRE ... KID LOVE PLAY A...      5.0   \n",
              "2  LOVE MONKEY 'S CONCEPT LEARN WORKING THEM . LO...      4.0   \n",
              "3  CAN NOT GET KINDLE AWAY 2 YEAR OLD GRANDDAUGHT...      5.0   \n",
              "4  START APP WHENEVER FORGET FORCE CLOSE PROMPT L...      1.0   \n",
              "\n",
              "                       summary  unixReviewTime   reviewTime  polarity_score  \\\n",
              "0                 Great app!!!    1.301184e+09  03 27, 2011          0.9510   \n",
              "1                 Kid loves it    1.321574e+09  11 18, 2011          0.9547   \n",
              "2          Love these monkeys!    1.367366e+09   05 1, 2013          0.9652   \n",
              "3         fun fun for toddlers    1.350173e+09  10 14, 2012          0.9037   \n",
              "4  Might be great if it worked    1.300838e+09  03 23, 2011          0.7598   \n",
              "\n",
              "  target  \n",
              "0    pos  \n",
              "1    pos  \n",
              "2    pos  \n",
              "3    pos  \n",
              "4    pos  "
            ],
            "text/html": [
              "\n",
              "  <div id=\"df-3e0c98ea-8140-4a07-ab6a-4696d2704f40\" class=\"colab-df-container\">\n",
              "    <div>\n",
              "<style scoped>\n",
              "    .dataframe tbody tr th:only-of-type {\n",
              "        vertical-align: middle;\n",
              "    }\n",
              "\n",
              "    .dataframe tbody tr th {\n",
              "        vertical-align: top;\n",
              "    }\n",
              "\n",
              "    .dataframe thead th {\n",
              "        text-align: right;\n",
              "    }\n",
              "</style>\n",
              "<table border=\"1\" class=\"dataframe\">\n",
              "  <thead>\n",
              "    <tr style=\"text-align: right;\">\n",
              "      <th></th>\n",
              "      <th>reviewerID</th>\n",
              "      <th>asin</th>\n",
              "      <th>reviewerName</th>\n",
              "      <th>helpful</th>\n",
              "      <th>reviewText</th>\n",
              "      <th>overall</th>\n",
              "      <th>summary</th>\n",
              "      <th>unixReviewTime</th>\n",
              "      <th>reviewTime</th>\n",
              "      <th>polarity_score</th>\n",
              "      <th>target</th>\n",
              "    </tr>\n",
              "  </thead>\n",
              "  <tbody>\n",
              "    <tr>\n",
              "      <th>0</th>\n",
              "      <td>AUI0OLXAB3KKT</td>\n",
              "      <td>B004A9SDD8</td>\n",
              "      <td>A Customer</td>\n",
              "      <td>[0, 0]</td>\n",
              "      <td>GLAD FINALLY SEE APP ANDROID MARKET . WIFE IPH...</td>\n",
              "      <td>5.0</td>\n",
              "      <td>Great app!!!</td>\n",
              "      <td>1.301184e+09</td>\n",
              "      <td>03 27, 2011</td>\n",
              "      <td>0.9510</td>\n",
              "      <td>pos</td>\n",
              "    </tr>\n",
              "    <tr>\n",
              "      <th>1</th>\n",
              "      <td>A1ZUSQ3TC3EC4C</td>\n",
              "      <td>B004A9SDD8</td>\n",
              "      <td>A. Lissak</td>\n",
              "      <td>[12, 14]</td>\n",
              "      <td>APP WORK GREAT KINDLE FIRE ... KID LOVE PLAY A...</td>\n",
              "      <td>5.0</td>\n",
              "      <td>Kid loves it</td>\n",
              "      <td>1.321574e+09</td>\n",
              "      <td>11 18, 2011</td>\n",
              "      <td>0.9547</td>\n",
              "      <td>pos</td>\n",
              "    </tr>\n",
              "    <tr>\n",
              "      <th>2</th>\n",
              "      <td>AC05OAXD72X1V</td>\n",
              "      <td>B004A9SDD8</td>\n",
              "      <td>Allie</td>\n",
              "      <td>[0, 0]</td>\n",
              "      <td>LOVE MONKEY 'S CONCEPT LEARN WORKING THEM . LO...</td>\n",
              "      <td>4.0</td>\n",
              "      <td>Love these monkeys!</td>\n",
              "      <td>1.367366e+09</td>\n",
              "      <td>05 1, 2013</td>\n",
              "      <td>0.9652</td>\n",
              "      <td>pos</td>\n",
              "    </tr>\n",
              "    <tr>\n",
              "      <th>3</th>\n",
              "      <td>A2RVMFOKBVM21I</td>\n",
              "      <td>B004A9SDD8</td>\n",
              "      <td>Amazon Customer</td>\n",
              "      <td>[0, 2]</td>\n",
              "      <td>CAN NOT GET KINDLE AWAY 2 YEAR OLD GRANDDAUGHT...</td>\n",
              "      <td>5.0</td>\n",
              "      <td>fun fun for toddlers</td>\n",
              "      <td>1.350173e+09</td>\n",
              "      <td>10 14, 2012</td>\n",
              "      <td>0.9037</td>\n",
              "      <td>pos</td>\n",
              "    </tr>\n",
              "    <tr>\n",
              "      <th>4</th>\n",
              "      <td>A3NBSRGUWQGCMZ</td>\n",
              "      <td>B004A9SDD8</td>\n",
              "      <td>Amazon Customer</td>\n",
              "      <td>[1, 3]</td>\n",
              "      <td>START APP WHENEVER FORGET FORCE CLOSE PROMPT L...</td>\n",
              "      <td>1.0</td>\n",
              "      <td>Might be great if it worked</td>\n",
              "      <td>1.300838e+09</td>\n",
              "      <td>03 23, 2011</td>\n",
              "      <td>0.7598</td>\n",
              "      <td>pos</td>\n",
              "    </tr>\n",
              "  </tbody>\n",
              "</table>\n",
              "</div>\n",
              "    <div class=\"colab-df-buttons\">\n",
              "\n",
              "  <div class=\"colab-df-container\">\n",
              "    <button class=\"colab-df-convert\" onclick=\"convertToInteractive('df-3e0c98ea-8140-4a07-ab6a-4696d2704f40')\"\n",
              "            title=\"Convert this dataframe to an interactive table.\"\n",
              "            style=\"display:none;\">\n",
              "\n",
              "  <svg xmlns=\"http://www.w3.org/2000/svg\" height=\"24px\" viewBox=\"0 -960 960 960\">\n",
              "    <path d=\"M120-120v-720h720v720H120Zm60-500h600v-160H180v160Zm220 220h160v-160H400v160Zm0 220h160v-160H400v160ZM180-400h160v-160H180v160Zm440 0h160v-160H620v160ZM180-180h160v-160H180v160Zm440 0h160v-160H620v160Z\"/>\n",
              "  </svg>\n",
              "    </button>\n",
              "\n",
              "  <style>\n",
              "    .colab-df-container {\n",
              "      display:flex;\n",
              "      gap: 12px;\n",
              "    }\n",
              "\n",
              "    .colab-df-convert {\n",
              "      background-color: #E8F0FE;\n",
              "      border: none;\n",
              "      border-radius: 50%;\n",
              "      cursor: pointer;\n",
              "      display: none;\n",
              "      fill: #1967D2;\n",
              "      height: 32px;\n",
              "      padding: 0 0 0 0;\n",
              "      width: 32px;\n",
              "    }\n",
              "\n",
              "    .colab-df-convert:hover {\n",
              "      background-color: #E2EBFA;\n",
              "      box-shadow: 0px 1px 2px rgba(60, 64, 67, 0.3), 0px 1px 3px 1px rgba(60, 64, 67, 0.15);\n",
              "      fill: #174EA6;\n",
              "    }\n",
              "\n",
              "    .colab-df-buttons div {\n",
              "      margin-bottom: 4px;\n",
              "    }\n",
              "\n",
              "    [theme=dark] .colab-df-convert {\n",
              "      background-color: #3B4455;\n",
              "      fill: #D2E3FC;\n",
              "    }\n",
              "\n",
              "    [theme=dark] .colab-df-convert:hover {\n",
              "      background-color: #434B5C;\n",
              "      box-shadow: 0px 1px 3px 1px rgba(0, 0, 0, 0.15);\n",
              "      filter: drop-shadow(0px 1px 2px rgba(0, 0, 0, 0.3));\n",
              "      fill: #FFFFFF;\n",
              "    }\n",
              "  </style>\n",
              "\n",
              "    <script>\n",
              "      const buttonEl =\n",
              "        document.querySelector('#df-3e0c98ea-8140-4a07-ab6a-4696d2704f40 button.colab-df-convert');\n",
              "      buttonEl.style.display =\n",
              "        google.colab.kernel.accessAllowed ? 'block' : 'none';\n",
              "\n",
              "      async function convertToInteractive(key) {\n",
              "        const element = document.querySelector('#df-3e0c98ea-8140-4a07-ab6a-4696d2704f40');\n",
              "        const dataTable =\n",
              "          await google.colab.kernel.invokeFunction('convertToInteractive',\n",
              "                                                    [key], {});\n",
              "        if (!dataTable) return;\n",
              "\n",
              "        const docLinkHtml = 'Like what you see? Visit the ' +\n",
              "          '<a target=\"_blank\" href=https://colab.research.google.com/notebooks/data_table.ipynb>data table notebook</a>'\n",
              "          + ' to learn more about interactive tables.';\n",
              "        element.innerHTML = '';\n",
              "        dataTable['output_type'] = 'display_data';\n",
              "        await google.colab.output.renderOutput(dataTable, element);\n",
              "        const docLink = document.createElement('div');\n",
              "        docLink.innerHTML = docLinkHtml;\n",
              "        element.appendChild(docLink);\n",
              "      }\n",
              "    </script>\n",
              "  </div>\n",
              "\n",
              "\n",
              "<div id=\"df-188f0e7d-bd31-47f4-a900-1d5bfd80b3f1\">\n",
              "  <button class=\"colab-df-quickchart\" onclick=\"quickchart('df-188f0e7d-bd31-47f4-a900-1d5bfd80b3f1')\"\n",
              "            title=\"Suggest charts\"\n",
              "            style=\"display:none;\">\n",
              "\n",
              "<svg xmlns=\"http://www.w3.org/2000/svg\" height=\"24px\"viewBox=\"0 0 24 24\"\n",
              "     width=\"24px\">\n",
              "    <g>\n",
              "        <path d=\"M19 3H5c-1.1 0-2 .9-2 2v14c0 1.1.9 2 2 2h14c1.1 0 2-.9 2-2V5c0-1.1-.9-2-2-2zM9 17H7v-7h2v7zm4 0h-2V7h2v10zm4 0h-2v-4h2v4z\"/>\n",
              "    </g>\n",
              "</svg>\n",
              "  </button>\n",
              "\n",
              "<style>\n",
              "  .colab-df-quickchart {\n",
              "      --bg-color: #E8F0FE;\n",
              "      --fill-color: #1967D2;\n",
              "      --hover-bg-color: #E2EBFA;\n",
              "      --hover-fill-color: #174EA6;\n",
              "      --disabled-fill-color: #AAA;\n",
              "      --disabled-bg-color: #DDD;\n",
              "  }\n",
              "\n",
              "  [theme=dark] .colab-df-quickchart {\n",
              "      --bg-color: #3B4455;\n",
              "      --fill-color: #D2E3FC;\n",
              "      --hover-bg-color: #434B5C;\n",
              "      --hover-fill-color: #FFFFFF;\n",
              "      --disabled-bg-color: #3B4455;\n",
              "      --disabled-fill-color: #666;\n",
              "  }\n",
              "\n",
              "  .colab-df-quickchart {\n",
              "    background-color: var(--bg-color);\n",
              "    border: none;\n",
              "    border-radius: 50%;\n",
              "    cursor: pointer;\n",
              "    display: none;\n",
              "    fill: var(--fill-color);\n",
              "    height: 32px;\n",
              "    padding: 0;\n",
              "    width: 32px;\n",
              "  }\n",
              "\n",
              "  .colab-df-quickchart:hover {\n",
              "    background-color: var(--hover-bg-color);\n",
              "    box-shadow: 0 1px 2px rgba(60, 64, 67, 0.3), 0 1px 3px 1px rgba(60, 64, 67, 0.15);\n",
              "    fill: var(--button-hover-fill-color);\n",
              "  }\n",
              "\n",
              "  .colab-df-quickchart-complete:disabled,\n",
              "  .colab-df-quickchart-complete:disabled:hover {\n",
              "    background-color: var(--disabled-bg-color);\n",
              "    fill: var(--disabled-fill-color);\n",
              "    box-shadow: none;\n",
              "  }\n",
              "\n",
              "  .colab-df-spinner {\n",
              "    border: 2px solid var(--fill-color);\n",
              "    border-color: transparent;\n",
              "    border-bottom-color: var(--fill-color);\n",
              "    animation:\n",
              "      spin 1s steps(1) infinite;\n",
              "  }\n",
              "\n",
              "  @keyframes spin {\n",
              "    0% {\n",
              "      border-color: transparent;\n",
              "      border-bottom-color: var(--fill-color);\n",
              "      border-left-color: var(--fill-color);\n",
              "    }\n",
              "    20% {\n",
              "      border-color: transparent;\n",
              "      border-left-color: var(--fill-color);\n",
              "      border-top-color: var(--fill-color);\n",
              "    }\n",
              "    30% {\n",
              "      border-color: transparent;\n",
              "      border-left-color: var(--fill-color);\n",
              "      border-top-color: var(--fill-color);\n",
              "      border-right-color: var(--fill-color);\n",
              "    }\n",
              "    40% {\n",
              "      border-color: transparent;\n",
              "      border-right-color: var(--fill-color);\n",
              "      border-top-color: var(--fill-color);\n",
              "    }\n",
              "    60% {\n",
              "      border-color: transparent;\n",
              "      border-right-color: var(--fill-color);\n",
              "    }\n",
              "    80% {\n",
              "      border-color: transparent;\n",
              "      border-right-color: var(--fill-color);\n",
              "      border-bottom-color: var(--fill-color);\n",
              "    }\n",
              "    90% {\n",
              "      border-color: transparent;\n",
              "      border-bottom-color: var(--fill-color);\n",
              "    }\n",
              "  }\n",
              "</style>\n",
              "\n",
              "  <script>\n",
              "    async function quickchart(key) {\n",
              "      const quickchartButtonEl =\n",
              "        document.querySelector('#' + key + ' button');\n",
              "      quickchartButtonEl.disabled = true;  // To prevent multiple clicks.\n",
              "      quickchartButtonEl.classList.add('colab-df-spinner');\n",
              "      try {\n",
              "        const charts = await google.colab.kernel.invokeFunction(\n",
              "            'suggestCharts', [key], {});\n",
              "      } catch (error) {\n",
              "        console.error('Error during call to suggestCharts:', error);\n",
              "      }\n",
              "      quickchartButtonEl.classList.remove('colab-df-spinner');\n",
              "      quickchartButtonEl.classList.add('colab-df-quickchart-complete');\n",
              "    }\n",
              "    (() => {\n",
              "      let quickchartButtonEl =\n",
              "        document.querySelector('#df-188f0e7d-bd31-47f4-a900-1d5bfd80b3f1 button');\n",
              "      quickchartButtonEl.style.display =\n",
              "        google.colab.kernel.accessAllowed ? 'block' : 'none';\n",
              "    })();\n",
              "  </script>\n",
              "</div>\n",
              "\n",
              "    </div>\n",
              "  </div>\n"
            ],
            "application/vnd.google.colaboratory.intrinsic+json": {
              "type": "dataframe",
              "variable_name": "df"
            }
          },
          "metadata": {},
          "execution_count": 22
        }
      ]
    },
    {
      "cell_type": "code",
      "source": [
        "df[\"reviewText\"].isnull().value_counts()"
      ],
      "metadata": {
        "colab": {
          "base_uri": "https://localhost:8080/"
        },
        "id": "oU2Bbrii9hhz",
        "outputId": "d86fb024-1d27-45a1-adfa-e21eca457655"
      },
      "execution_count": 23,
      "outputs": [
        {
          "output_type": "execute_result",
          "data": {
            "text/plain": [
              "reviewText\n",
              "False    2638173\n",
              "Name: count, dtype: int64"
            ]
          },
          "metadata": {},
          "execution_count": 23
        }
      ]
    },
    {
      "cell_type": "code",
      "source": [
        "# Encode the target variable\n",
        "label_encoder = LabelEncoder()\n",
        "df[\"target\"] = label_encoder.fit_transform(df[\"target\"])"
      ],
      "metadata": {
        "id": "KIWsz5uD9hsd"
      },
      "execution_count": 24,
      "outputs": []
    },
    {
      "cell_type": "code",
      "source": [
        "df[\"target\"].value_counts()"
      ],
      "metadata": {
        "colab": {
          "base_uri": "https://localhost:8080/"
        },
        "id": "c63PRqbV8K53",
        "outputId": "977e2554-4dc4-4559-d867-11777170f0cc"
      },
      "execution_count": 25,
      "outputs": [
        {
          "output_type": "execute_result",
          "data": {
            "text/plain": [
              "target\n",
              "2    2004778\n",
              "1     481608\n",
              "0     151787\n",
              "Name: count, dtype: int64"
            ]
          },
          "metadata": {},
          "execution_count": 25
        }
      ]
    },
    {
      "cell_type": "code",
      "source": [
        "# Prepare feature matrix X and target vector y\n",
        "X = df[\"reviewText\"]\n",
        "y = df[\"target\"]"
      ],
      "metadata": {
        "id": "lHp6v4RH9xQr"
      },
      "execution_count": 26,
      "outputs": []
    },
    {
      "cell_type": "code",
      "source": [
        "# Scaling the dataset\n",
        "# Identify the indices of rows where y is 2\n",
        "indices_to_drop = np.where(y == 2)[0]\n",
        "\n",
        "# Calculate the number of rows to drop (60% of the total rows with y == 2)\n",
        "num_rows_to_drop = int(0.67 * len(indices_to_drop))\n",
        "\n",
        "# Randomly select 60% of the indices to drop\n",
        "indices_to_drop = np.random.choice(indices_to_drop, size=num_rows_to_drop, replace=False)\n",
        "\n",
        "# Drop the selected rows from X\n",
        "X.drop(indices_to_drop, inplace=True)\n",
        "\n",
        "# Also drop the corresponding rows from y\n",
        "y = y.drop(indices_to_drop)"
      ],
      "metadata": {
        "id": "2pxTBKby9xmP"
      },
      "execution_count": 27,
      "outputs": []
    },
    {
      "cell_type": "code",
      "source": [
        "y.value_counts()"
      ],
      "metadata": {
        "colab": {
          "base_uri": "https://localhost:8080/"
        },
        "id": "HaxkdEXC9x4J",
        "outputId": "14b5169a-1ac1-45ca-c52e-b2c8a4ce3210"
      },
      "execution_count": 28,
      "outputs": [
        {
          "output_type": "execute_result",
          "data": {
            "text/plain": [
              "target\n",
              "2    661577\n",
              "1    481608\n",
              "0    151787\n",
              "Name: count, dtype: int64"
            ]
          },
          "metadata": {},
          "execution_count": 28
        }
      ]
    },
    {
      "cell_type": "code",
      "source": [
        "# Split the data into training and test sets\n",
        "X_train, X_test, y_train, y_test = train_test_split(X, y, test_size=0.2, random_state=42)"
      ],
      "metadata": {
        "id": "8zoPPO_S9ySq"
      },
      "execution_count": 29,
      "outputs": []
    },
    {
      "cell_type": "code",
      "source": [
        "# Then apply TF-IDF vectorization\n",
        "tf_idf_word_vectorizer = TfidfVectorizer()\n",
        "X_train_tf_idf_word = tf_idf_word_vectorizer.fit_transform(X_train)\n",
        "X_test_tf_idf_word = tf_idf_word_vectorizer.transform(X_test)"
      ],
      "metadata": {
        "id": "61oy1ep4-CCo"
      },
      "execution_count": 30,
      "outputs": []
    },
    {
      "cell_type": "markdown",
      "source": [
        "## Modeling"
      ],
      "metadata": {
        "id": "UYAbTkggTC0M"
      }
    },
    {
      "cell_type": "code",
      "source": [
        "# Train a Naive Bayes model\n",
        "nb_model = MultinomialNB()\n",
        "nb_model.fit(X_train_tf_idf_word, y_train)\n",
        "\n",
        "# Evaluate the model\n",
        "nb_accuracy = nb_model.score(X_test_tf_idf_word, y_test)\n",
        "\n",
        "print(\"Testing Accuracy: {:2f}%\".format(nb_accuracy * 100))"
      ],
      "metadata": {
        "colab": {
          "base_uri": "https://localhost:8080/"
        },
        "id": "Gnkc6aL8-COM",
        "outputId": "62efa0a9-b4a1-4597-9bd0-592f04b97872"
      },
      "execution_count": 33,
      "outputs": [
        {
          "output_type": "stream",
          "name": "stdout",
          "text": [
            "Testing Accuracy: 65.755323%\n"
          ]
        }
      ]
    },
    {
      "cell_type": "code",
      "source": [
        "# Initialize and train the logistic regression model\n",
        "logr_model = LogisticRegression(max_iter=1000)\n",
        "logr_model.fit(X_train_tf_idf_word, y_train)\n",
        "\n",
        "# Evaluate the model on the test set\n",
        "logr_accuracy = logr_model.score(X_test_tf_idf_word, y_test)\n",
        "\n",
        "print(\"Testing Accuracy: {:2f}%\".format(logr_accuracy * 100))"
      ],
      "metadata": {
        "colab": {
          "base_uri": "https://localhost:8080/"
        },
        "id": "oFpppLg7Ukrr",
        "outputId": "6e51dc07-55b1-4491-c1c2-429e23746667"
      },
      "execution_count": 34,
      "outputs": [
        {
          "output_type": "stream",
          "name": "stdout",
          "text": [
            "Testing Accuracy: 87.410182%\n"
          ]
        }
      ]
    },
    {
      "cell_type": "code",
      "source": [
        "# Testing the best model on an example review\n",
        "test_tex = pd.Series([\"this product is great\",\n",
        "                        \"look at that app very bad\",\n",
        "                        \"it was good but I am sure that it fits me\"])\n",
        "\n",
        "# Transform new text data using the fitted TF-IDF vectorizer\n",
        "test_tex_tfidf = tf_idf_word_vectorizer.transform(test_tex)\n",
        "\n",
        "# Make predictions\n",
        "predictions = logr_model.predict(test_tex_tfidf)\n",
        "\n",
        "print(\"Predictions:\", predictions)"
      ],
      "metadata": {
        "colab": {
          "base_uri": "https://localhost:8080/"
        },
        "id": "Y0LUNEODUkxR",
        "outputId": "90bc3825-8cfd-447d-83a2-3877f05d6083"
      },
      "execution_count": 36,
      "outputs": [
        {
          "output_type": "stream",
          "name": "stdout",
          "text": [
            "Predictions: [2 0 1]\n"
          ]
        }
      ]
    },
    {
      "cell_type": "markdown",
      "source": [
        "Obviously the Logistic Regression was better than the Naive Bayes model"
      ],
      "metadata": {
        "id": "sPOBH41SbRIP"
      }
    }
  ]
}